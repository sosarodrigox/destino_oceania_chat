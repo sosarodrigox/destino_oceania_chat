{
 "cells": [
  {
   "cell_type": "markdown",
   "metadata": {},
   "source": [
    "0) Imports:"
   ]
  },
  {
   "cell_type": "code",
   "execution_count": 1,
   "metadata": {},
   "outputs": [],
   "source": [
    "from PyPDF2 import PdfReader\n",
    "from langchain.text_splitter import RecursiveCharacterTextSplitter\n",
    "from langchain.embeddings import HuggingFaceEmbeddings\n",
    "from sentence_transformers import SentenceTransformer\n",
    "from langchain.vectorstores import FAISS\n",
    "from langchain.callbacks import get_openai_callback"
   ]
  },
  {
   "cell_type": "markdown",
   "metadata": {},
   "source": [
    "1) Configuration:"
   ]
  },
  {
   "cell_type": "code",
   "execution_count": null,
   "metadata": {},
   "outputs": [],
   "source": []
  },
  {
   "cell_type": "markdown",
   "metadata": {},
   "source": [
    "2. Load PDF file:"
   ]
  },
  {
   "cell_type": "code",
   "execution_count": 2,
   "metadata": {},
   "outputs": [],
   "source": [
    "pdf_file = open(\"data/servicios_ebook.pdf\", \"rb\")\n",
    "pdf_reader = PdfReader(pdf_file)"
   ]
  },
  {
   "cell_type": "code",
   "execution_count": 3,
   "metadata": {},
   "outputs": [],
   "source": [
    "text = \"\"\n",
    "for page in pdf_reader.pages:\n",
    "    text += page.extract_text()"
   ]
  },
  {
   "cell_type": "code",
   "execution_count": 4,
   "metadata": {},
   "outputs": [
    {
     "data": {
      "text/plain": [
       "'ebes tener millones de dudas, porque como te comentamos, también estuvimos en tu lugar\\nhace muchos años.\\nPor todo lo que te comentamos, también abrimos esta vía de consultoría, donde nos puedes\\npreguntar de todo (o casi todo) ya que las cuestiones legales y migratorias por ley , solo lo puede\\ndar un Inmigration Adviser . Nosotros contamos con uno, y puedes ver sus servicios de visas\\npara Nueva Zelanda . Si tienes consultas migratorias para Australia, nos puedes escribir a\\ncontacto@destinoceania.com .\\n¿En qué te podemos ayudar? Te contamos brevemente nuestra historia, tal vez te ayude a\\ndecidirte con quién de nosotros tener la consultoría.Menú\\n11/2/23, 6:40 PM Consultoría – Destino Oceanía\\nhttps://destinoceania.com/servicios/consultoria/ 2/4\\nPatricio Toranza\\nCo-fundador de Destino Oceanía, especialista de Nueva Zelanda\\nPato pasó por varios trabajos en la construcción mediante los cuales consiguió su\\nresidencia permanente en Nueva Zelanda para luego montarse su propia empresa\\nInmobiliari'"
      ]
     },
     "execution_count": 4,
     "metadata": {},
     "output_type": "execute_result"
    }
   ],
   "source": [
    "# Check a part of the pdf extracted:\n",
    "text[1000:2000]"
   ]
  },
  {
   "cell_type": "markdown",
   "metadata": {},
   "source": [
    "3. Create chunks:"
   ]
  },
  {
   "cell_type": "code",
   "execution_count": 5,
   "metadata": {},
   "outputs": [],
   "source": [
    "text_splitter = RecursiveCharacterTextSplitter(\n",
    "    chunk_size=1000,\n",
    "    chunk_overlap=100,\n",
    "    length_function=len,\n",
    ")"
   ]
  },
  {
   "cell_type": "code",
   "execution_count": 6,
   "metadata": {},
   "outputs": [],
   "source": [
    "chunks = text_splitter.split_text(text)"
   ]
  },
  {
   "cell_type": "code",
   "execution_count": 7,
   "metadata": {},
   "outputs": [
    {
     "name": "stdout",
     "output_type": "stream",
     "text": [
      "Number of chunks: 53\n",
      "Example chunk[7]: Nueva Zelanda puede abrirte el camino para desarrollar tus habilidades, conocer gente de todo el mundo e insertarse\n",
      "en el incipiente mercado de trabajo de este país. Te asistimos para conseguir tu V isa de Estudiante y que puedas\n",
      "viajar a Nueva Zelanda.\n",
      "Gestión de visas de Visitante para Nueva Zelanda\n",
      "Las visas de visitantes son para aquellos ciudadanos de países no miembros del  NZ V isa W aiver program ,\n",
      "y permiten viajar a Nueva Zelanda con propósitos tales como vacaciones, visitar familiares, amigos (incluso estudiarMenú\n",
      "Índice de contenidos11/2/23, 6:41 PM Servicio de gestión de visas para Nueva Zelanda\n",
      "https://destinoceania.com/servicios/gestion-visas-nueva-zelanda/ 2/3hasta un máximo de 3 meses). Las visas de visitante permiten normalmente una estadía máxima de 9 meses en\n",
      "Nueva Zelanda y son el puntapié inicial para descubrir los increíbles lugares de este país.\n",
      "Si estás interesado en los servicios de gestión de visas para Nueva Zelanda, por favor completa el siguiente\n"
     ]
    }
   ],
   "source": [
    "print(f\"Number of chunks: {len(chunks)}\")\n",
    "print(f\"Example chunk[7]: {chunks[7]}\")"
   ]
  },
  {
   "cell_type": "markdown",
   "metadata": {},
   "source": [
    "4. Create Embeddings:"
   ]
  },
  {
   "cell_type": "code",
   "execution_count": 8,
   "metadata": {},
   "outputs": [
    {
     "data": {
      "text/plain": [
       "'sentence-transformers/paraphrase-multilingual-mpnet-base-v2'"
      ]
     },
     "execution_count": 8,
     "metadata": {},
     "output_type": "execute_result"
    }
   ],
   "source": [
    "# This is a free use model, but you can use your own model\n",
    "# Lite Version:\n",
    "'sentence-transformers/paraphrase-multilingual-MiniLM-L12-v2'  # 471M\n",
    "# Base Version:\n",
    "'sentence-transformers/paraphrase-multilingual-mpnet-base-v2'  # 1.11G"
   ]
  },
  {
   "cell_type": "code",
   "execution_count": 9,
   "metadata": {},
   "outputs": [],
   "source": [
    "embeddings = HuggingFaceEmbeddings(\n",
    "    model_name=\"sentence-transformers/paraphrase-multilingual-MiniLM-L12-v2\")"
   ]
  },
  {
   "cell_type": "code",
   "execution_count": 10,
   "metadata": {},
   "outputs": [
    {
     "name": "stdout",
     "output_type": "stream",
     "text": [
      "Sentence embeddings len:384\n"
     ]
    }
   ],
   "source": [
    "# Embedding example:\n",
    "\n",
    "model = SentenceTransformer(\n",
    "    'sentence-transformers/paraphrase-multilingual-MiniLM-L12-v2')\n",
    "sentence_embeddings = model.encode(\"This is only an example sentence.\")\n",
    "\n",
    "print(\"Sentence embeddings len:\"+str(len(sentence_embeddings)))"
   ]
  },
  {
   "cell_type": "code",
   "execution_count": 11,
   "metadata": {},
   "outputs": [
    {
     "data": {
      "text/plain": [
       "array([ 3.48671041e-02,  2.07877666e-01,  5.55473119e-02,  2.26788729e-01,\n",
       "        3.93917382e-01, -5.18002957e-02,  3.94082218e-01,  2.87398428e-01,\n",
       "        2.26167277e-01, -9.68607217e-02,  3.42971057e-01, -1.10691385e-02,\n",
       "       -2.50375062e-01, -2.94712023e-03,  1.57670602e-01, -1.82870254e-02,\n",
       "        1.86952010e-01,  2.19318554e-01, -5.59591711e-01, -9.48017463e-02,\n",
       "        4.48828548e-01,  2.70089973e-02, -3.79897207e-02, -2.21552879e-01,\n",
       "       -1.32406250e-01, -4.23402667e-01,  1.18720941e-01, -8.44372213e-02,\n",
       "        1.28614604e-01,  1.59072608e-01, -3.28535885e-01,  2.03147739e-01,\n",
       "        1.38282835e-01,  4.26404215e-02,  1.66529156e-02,  8.18621293e-02,\n",
       "        2.27468997e-01,  1.41169682e-01,  9.63715017e-02,  1.60501093e-01,\n",
       "       -3.18667144e-02, -1.61084950e-01, -2.06193980e-03,  4.69921917e-01,\n",
       "       -4.87578660e-01,  2.01607142e-02,  1.80015922e-01, -7.42736980e-02,\n",
       "       -5.34520112e-02, -3.56206030e-01, -5.88137172e-02,  9.26874429e-02,\n",
       "       -5.39254010e-01, -2.57897805e-02,  2.09244967e-01, -2.47757845e-02,\n",
       "        8.51576477e-02, -1.28176063e-01, -1.54607579e-01,  2.28208303e-02,\n",
       "       -3.24661314e-01,  2.97222555e-01, -1.51725531e-01, -1.53236702e-01,\n",
       "        4.12778527e-01, -3.42590719e-01, -6.91823065e-02, -1.23901792e-01,\n",
       "       -4.42953169e-01,  7.20062673e-01,  6.43611848e-02,  1.88749835e-01,\n",
       "       -1.25498578e-01,  3.69829208e-01,  2.30009362e-04, -1.49396852e-01,\n",
       "        6.34289324e-01,  3.43069226e-01,  1.81954101e-01,  4.16197658e-01,\n",
       "       -1.94266006e-01, -1.45180106e-01,  1.51896149e-01,  1.58735216e-01,\n",
       "       -4.45765138e-01, -1.76014885e-01, -2.71373153e-01,  3.40045720e-01,\n",
       "       -5.41682914e-02, -1.52948171e-01, -3.43935937e-01, -2.30649605e-01,\n",
       "        4.51300472e-01,  1.00392543e-01,  1.89027265e-01, -2.99470648e-02,\n",
       "        1.41342580e-01, -2.96400219e-01, -1.16930217e-01,  5.14345944e-01,\n",
       "        1.69739709e-03,  1.93505123e-01,  1.08971559e-01,  2.64701217e-01,\n",
       "        3.71658236e-01, -2.20232040e-01, -2.56341577e-01, -4.24139835e-02,\n",
       "        4.36391681e-02, -3.06732893e-01,  5.81771322e-02,  1.30982310e-01,\n",
       "        1.14605270e-01, -1.43229127e-01, -2.84820914e-01, -4.66010511e-01,\n",
       "       -4.22458798e-02, -5.10465121e-03, -3.00237477e-01,  3.11883539e-01,\n",
       "       -2.24292308e-01, -2.02172890e-01,  3.20378363e-01,  7.33565465e-02,\n",
       "       -3.11675429e-01, -6.02923155e-01,  7.13996440e-02,  1.68194667e-01,\n",
       "        1.00618958e-01, -2.36577615e-01, -5.01544118e-01, -5.60632467e-01,\n",
       "        3.31235170e-01,  7.30849570e-03,  2.85534300e-02, -3.19956303e-01,\n",
       "        8.35131928e-02,  2.02549145e-01,  5.62538244e-02,  1.64758302e-02,\n",
       "        1.13150083e-01,  2.79587150e-01, -7.51023144e-02,  6.60912395e-01,\n",
       "       -1.98904574e-01,  3.97750974e-01, -4.76005599e-02,  2.50710081e-02,\n",
       "       -2.29054078e-01,  2.03742087e-01,  6.27970919e-02, -1.67079300e-01,\n",
       "       -3.97235304e-02, -1.07587263e-01, -4.08071205e-02, -1.90444455e-01,\n",
       "       -3.81947011e-02,  1.60893828e-01, -1.54930726e-01, -1.39120132e-01,\n",
       "        2.70085521e-02,  1.75180689e-01, -5.83193898e-02,  1.21064201e-01,\n",
       "        1.46224782e-01, -2.23217860e-01, -8.93948600e-02, -1.77040681e-01,\n",
       "       -7.30081499e-02,  1.99051470e-01,  3.46838474e-01, -5.26217967e-02,\n",
       "       -6.74208105e-02, -1.58150733e-01, -4.87973094e-02, -1.66240096e-01,\n",
       "       -4.69032884e-01,  3.12845707e-02, -2.36101113e-02, -4.23145629e-02,\n",
       "        2.15725899e-01, -1.13489352e-01, -1.56797722e-01,  7.00856298e-02,\n",
       "       -3.09493691e-01,  9.11406726e-02,  1.43207103e-01,  2.81437248e-01,\n",
       "        2.17058733e-02,  1.54709101e-01, -2.59380221e-01,  4.74050036e-03,\n",
       "        7.54918605e-02, -5.22747822e-02, -2.86610544e-01, -2.34315228e-02,\n",
       "        3.51216435e-01,  2.88007051e-01,  1.92147978e-02,  1.60396956e-02,\n",
       "       -1.08179174e-01, -1.46735623e-03,  3.43822688e-01, -1.80314720e-01,\n",
       "        3.16196293e-01, -3.56300652e-01,  1.14383847e-01, -2.00759098e-01,\n",
       "       -6.53614476e-02,  9.33916569e-02,  1.30319580e-01,  2.99155056e-01,\n",
       "       -6.26839876e-01,  1.75553426e-01, -2.71103606e-02,  3.56133044e-01,\n",
       "       -9.94575918e-02,  2.58287579e-01, -3.99908423e-01, -3.97704281e-02,\n",
       "       -1.90746635e-01, -1.22791618e-01,  2.45631427e-01, -2.42051631e-01,\n",
       "       -8.01149756e-02,  3.78217578e-01,  1.70981940e-02, -1.26681268e-01,\n",
       "        3.84622663e-01, -2.96492815e-01,  1.09667011e-01, -1.14174195e-01,\n",
       "        1.24947680e-02, -1.64341629e-01, -4.41959113e-01, -4.32111859e-01,\n",
       "       -2.83987820e-01,  2.40249366e-01,  1.41232342e-01, -1.40185833e-01,\n",
       "       -1.92638591e-01,  6.02002740e-02, -7.80656040e-02,  6.98296800e-02,\n",
       "        2.85901818e-02,  8.62166584e-02,  6.85053021e-02,  6.70643076e-02,\n",
       "        8.81663263e-02, -6.85528591e-02, -1.12805314e-01, -4.72381674e-02,\n",
       "       -2.72250682e-01,  1.40954494e-01, -6.19758517e-02,  2.98557669e-01,\n",
       "       -4.66616362e-01,  4.19046730e-01, -2.07898140e-01,  3.63438278e-02,\n",
       "       -2.18550935e-02, -1.42421514e-01,  1.16297351e-02, -7.18292296e-02,\n",
       "       -1.36858091e-01, -4.02700394e-01,  3.15399259e-01, -1.11750402e-02,\n",
       "       -1.43451154e-01,  5.48568033e-02, -2.09817484e-01,  1.86949447e-02,\n",
       "        9.29978937e-02,  5.77382185e-02, -3.48917305e-01,  2.52490328e-03,\n",
       "       -1.07290253e-01, -4.28590514e-02,  5.24821226e-03, -1.24441110e-01,\n",
       "       -1.04177995e-02, -3.73215318e-01,  3.72340798e-01, -9.34898555e-02,\n",
       "        2.21588999e-01, -5.46570420e-02,  4.07636585e-03,  2.40269721e-01,\n",
       "        5.66917896e-01,  1.39797762e-01, -4.25691009e-01,  6.28829956e-01,\n",
       "        1.76870093e-01, -5.65949492e-02, -1.07050322e-01, -1.84622072e-02,\n",
       "       -4.33449209e-01, -7.68597126e-02, -2.05875352e-01, -1.69854071e-02,\n",
       "        8.55005905e-02, -2.29558632e-01, -1.99458733e-01, -8.46076831e-02,\n",
       "        3.22734147e-01, -2.51243293e-01,  1.75838828e-01,  2.15797469e-01,\n",
       "       -3.57394755e-01, -1.20625652e-01,  8.52348059e-02,  4.57505286e-01,\n",
       "       -2.90382743e-01,  4.62255269e-01,  1.58232823e-02, -1.03762068e-01,\n",
       "       -7.93662816e-02,  1.46553680e-01, -2.43872911e-01, -3.05655628e-01,\n",
       "        4.12944108e-02, -1.89037681e-01, -5.36718965e-02, -1.61554277e-01,\n",
       "        1.48497209e-01, -1.27606643e-02,  1.14045620e-01, -3.36628109e-01,\n",
       "       -1.15550809e-01, -1.08988993e-02, -3.85373354e-01,  3.27404618e-01,\n",
       "       -1.94546655e-01,  3.35640945e-02, -1.39126465e-01,  4.67267305e-01,\n",
       "       -1.29842207e-01, -3.19507271e-01,  1.27440020e-01,  4.22799826e-01,\n",
       "        3.34644496e-01,  2.24031523e-01, -3.22909713e-01, -1.08511643e-02,\n",
       "        8.17128122e-02,  7.60411173e-02, -7.68409446e-02,  9.78203304e-03,\n",
       "       -3.02625209e-01,  3.25789712e-02,  3.12313855e-01,  2.85185039e-01,\n",
       "       -3.02313328e-01, -3.57493013e-03, -7.35988021e-02,  7.41886795e-02,\n",
       "        1.46456882e-01, -4.14965034e-01, -1.31819814e-01, -4.70648885e-01,\n",
       "       -1.63066804e-01, -1.38545185e-01,  7.02947974e-01,  6.64161146e-01,\n",
       "        4.88668978e-02,  1.23293027e-01, -4.67117906e-01, -2.32595861e-01,\n",
       "       -2.68528163e-01, -2.11189523e-01,  8.46657008e-02, -1.41166896e-01,\n",
       "        1.60356849e-01,  1.20145679e-01,  4.36774939e-02,  5.51566482e-02,\n",
       "        1.75733149e-01,  1.20979957e-01,  8.50127041e-02,  7.23574162e-02,\n",
       "        1.89192995e-01,  1.62774175e-01,  4.73423421e-01,  1.26034394e-01],\n",
       "      dtype=float32)"
      ]
     },
     "execution_count": 11,
     "metadata": {},
     "output_type": "execute_result"
    }
   ],
   "source": [
    "sentence_embeddings"
   ]
  },
  {
   "cell_type": "code",
   "execution_count": 12,
   "metadata": {},
   "outputs": [],
   "source": [
    "#  Create embeddings for the entire text:\n",
    "\n",
    "knowledge_base = FAISS.from_texts(chunks, embeddings)"
   ]
  },
  {
   "cell_type": "code",
   "execution_count": 13,
   "metadata": {},
   "outputs": [],
   "source": [
    "# Generate a question for testing:\n",
    "question = \"¿Qué ofrece el servicio de consultoría?\"\n",
    "docs = knowledge_base.similarity_search(question, 3)"
   ]
  },
  {
   "cell_type": "code",
   "execution_count": 14,
   "metadata": {},
   "outputs": [
    {
     "data": {
      "text/plain": [
       "[Document(page_content='telefónica, pero también en lugares como “The Warehouse” en Nueva Zelanda o “Sim Corner” \\nen Australia. G astón recomienda averiguar qué compañía tiene la mejor cobertura en la zona en \\nla cual pensás residir y comprar una simcard acorde.  \\n \\nEl servicio prepago es siempre más caro que un plan mensual. Si tenés la certeza de que te vas a \\nquedar por un largo tiempo  en el país, te recomendamos contratar un plan mensual, siempre \\nleyendo la letra chica, ya que muchas veces tienen cláusulas de cancelación con penalizaciones \\nsi terminas el contrato antes de cierto plazo.  \\n \\nTe sugerimos escuchar el siguiente episodio del podcast en el que charlamos en profundidad \\nsobre este tema:  \\n \\n \\nPrimeros pasos en Australia y Nueva Zelanda  \\n \\n \\n  LOS CAMINOS PARA MIGRAR A OCEANÍA  \\ndestinoceania.com  \\n16 \\nA continuación les dejamos checklists de los primeros pasos para cada país:  \\nAUSTRALIA  \\n• Arribo a aeropuertos internacionales : Sydney / Melbourne / Brisbane / Perth.  \\n• Alquilar hostel'),\n",
       " Document(page_content='piden o no sabés que hacer , pero todas las experiencias suman, todos los conocimientos te \\nquedan para siempre y se agregan a tu currículum. Los empleadores valoran mucho a los \\nempleados que tienen iniciativa y no dudan al tomar nuevas responsabilidades  y los priorizan al \\nofrecer oportunid ades de sponsor y puestos a largo plazo.  \\nTe compartimos la entrevista a Pato, quién empezó trabajando en la construcción y terminó \\nmontando su propia agencia inmobiliaria, otro episodio donde Gastón y Pila cuentan su \\nexperiencia trabajando en el área de ga stronomía. Para los que aún no tienen claro sus \\nobjetivos laborales, les  compartimos la entrevista a Jordi, quien dejó su vida atrás para irse a \\nvivir una aventura a Australia a los 45 años.  \\n \\nDe empleado a empresario \\nen Nueva Zelanda  Trabajar en hospitality en \\nAustralia y Nueva Zelanda   De España a Australia con 45 \\naños  \\n \\nTIPS PARA HACER UN CURRICULUM PARA AUSTRALIA O NUEVA ZELANDA'),\n",
       " Document(page_content='Zelanda\\nPara poder tramitar una V isa para Nueva Zelanda es necesario asesorarse y contratar un Inmigration Advisor , quienes\\nson las personas con la validación del gobierno de Nueva Zelanda para actuar sobre temas migratorios. Destino\\nOceanía tiene en su equipo a dos Inmigration Advisers que hablan español . Te podemos ayudar sobre la gestión\\nde todo tipo de visados y también en la homologación de títulos para Nueva Zelanda.\\nServicios de asistencia para homologar título en Nueva\\nZelanda\\nPor intermedio de NZQA  (New Zealand Qualiﬁcations Authority) se permite homologar titulos terciarios, universitarios\\ny de posgrado en Nueva Zelanda con el objeto de presentarlos en aplicaciones de visas. La validación de títulos sirve\\npara continuar estudios, o para registración con organismos profesionales, entre algunas de las posibilidades.\\nTe asistimos de manera integral en el proceso de homologación y validación de Títulos. La homologación de títulos,')]"
      ]
     },
     "execution_count": 14,
     "metadata": {},
     "output_type": "execute_result"
    }
   ],
   "source": [
    "docs"
   ]
  },
  {
   "cell_type": "markdown",
   "metadata": {},
   "source": [
    "5. Question to the PDF document using openapi:"
   ]
  },
  {
   "cell_type": "code",
   "execution_count": 15,
   "metadata": {},
   "outputs": [
    {
     "data": {
      "text/plain": [
       "True"
      ]
     },
     "execution_count": 15,
     "metadata": {},
     "output_type": "execute_result"
    }
   ],
   "source": [
    "# Loas openai api key\n",
    "from dotenv import load_dotenv\n",
    "import openai\n",
    "import os\n",
    "\n",
    "# load environment variables:\n",
    "load_dotenv()"
   ]
  },
  {
   "cell_type": "code",
   "execution_count": 16,
   "metadata": {},
   "outputs": [],
   "source": [
    "from langchain.chat_models import ChatOpenAI\n",
    "from langchain.chains.question_answering import load_qa_chain"
   ]
  },
  {
   "cell_type": "code",
   "execution_count": 17,
   "metadata": {},
   "outputs": [],
   "source": [
    "# Load language model:\n",
    "chat_model = ChatOpenAI(model_name='gpt-3.5-turbo')\n",
    "\n",
    "chain = load_qa_chain(chat_model, chain_type=\"stuff\")"
   ]
  },
  {
   "cell_type": "code",
   "execution_count": 18,
   "metadata": {},
   "outputs": [
    {
     "name": "stdout",
     "output_type": "stream",
     "text": [
      "ChatGPT Answer: No tengo información sobre la fecha de cumpleaños de Maradona.\n"
     ]
    }
   ],
   "source": [
    "new_question = \"\"\"Cuando es el cumpleaños de maradona?\"\"\"\n",
    "# Search similar phrases in the knowledge base:\n",
    "new_docs = knowledge_base.similarity_search(new_question, 3)\n",
    "# Use the similar phrases to generate the context to ChatOpenAI:\n",
    "new_answer = chain.run(input_documents=new_docs, question=new_question)\n",
    "print(f\"ChatGPT Answer: {new_answer}\")"
   ]
  },
  {
   "cell_type": "markdown",
   "metadata": {},
   "source": [
    "6. Review the cost:"
   ]
  },
  {
   "cell_type": "code",
   "execution_count": 19,
   "metadata": {},
   "outputs": [
    {
     "name": "stdout",
     "output_type": "stream",
     "text": [
      "Tokens Used: 885\n",
      "\tPrompt Tokens: 876\n",
      "\tCompletion Tokens: 9\n",
      "Successful Requests: 1\n",
      "Total Cost (USD): $0.001332\n"
     ]
    }
   ],
   "source": [
    "with get_openai_callback() as cb:\n",
    "    response = chain.run(input_documents=new_docs, question=new_question)\n",
    "    print(cb)"
   ]
  },
  {
   "cell_type": "code",
   "execution_count": null,
   "metadata": {},
   "outputs": [],
   "source": []
  }
 ],
 "metadata": {
  "kernelspec": {
   "display_name": "base",
   "language": "python",
   "name": "python3"
  },
  "language_info": {
   "codemirror_mode": {
    "name": "ipython",
    "version": 3
   },
   "file_extension": ".py",
   "mimetype": "text/x-python",
   "name": "python",
   "nbconvert_exporter": "python",
   "pygments_lexer": "ipython3",
   "version": "3.10.9"
  }
 },
 "nbformat": 4,
 "nbformat_minor": 2
}
