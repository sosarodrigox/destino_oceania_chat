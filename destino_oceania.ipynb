{
 "cells": [
  {
   "cell_type": "markdown",
   "metadata": {},
   "source": [
    "0) Imports:"
   ]
  },
  {
   "cell_type": "code",
   "execution_count": 19,
   "metadata": {},
   "outputs": [],
   "source": [
    "from PyPDF2 import PdfReader\n",
    "from langchain.text_splitter import RecursiveCharacterTextSplitter"
   ]
  },
  {
   "cell_type": "markdown",
   "metadata": {},
   "source": [
    "1) Configuration:"
   ]
  },
  {
   "cell_type": "code",
   "execution_count": null,
   "metadata": {},
   "outputs": [],
   "source": []
  },
  {
   "cell_type": "markdown",
   "metadata": {},
   "source": [
    "2. Load PDF file:"
   ]
  },
  {
   "cell_type": "code",
   "execution_count": 20,
   "metadata": {},
   "outputs": [],
   "source": [
    "pdf_file = open(\"data/servicios_ebook.pdf\", \"rb\")\n",
    "pdf_reader = PdfReader(pdf_file)"
   ]
  },
  {
   "cell_type": "code",
   "execution_count": 21,
   "metadata": {},
   "outputs": [],
   "source": [
    "text = \"\"\n",
    "for page in pdf_reader.pages:\n",
    "    text += page.extract_text()"
   ]
  },
  {
   "cell_type": "code",
   "execution_count": 22,
   "metadata": {},
   "outputs": [
    {
     "data": {
      "text/plain": [
       "'ebes tener millones de dudas, porque como te comentamos, también estuvimos en tu lugar\\nhace muchos años.\\nPor todo lo que te comentamos, también abrimos esta vía de consultoría, donde nos puedes\\npreguntar de todo (o casi todo) ya que las cuestiones legales y migratorias por ley , solo lo puede\\ndar un Inmigration Adviser . Nosotros contamos con uno, y puedes ver sus servicios de visas\\npara Nueva Zelanda . Si tienes consultas migratorias para Australia, nos puedes escribir a\\ncontacto@destinoceania.com .\\n¿En qué te podemos ayudar? Te contamos brevemente nuestra historia, tal vez te ayude a\\ndecidirte con quién de nosotros tener la consultoría.Menú\\n11/2/23, 6:40 PM Consultoría – Destino Oceanía\\nhttps://destinoceania.com/servicios/consultoria/ 2/4\\nPatricio Toranza\\nCo-fundador de Destino Oceanía, especialista de Nueva Zelanda\\nPato pasó por varios trabajos en la construcción mediante los cuales consiguió su\\nresidencia permanente en Nueva Zelanda para luego montarse su propia empresa\\nInmobiliari'"
      ]
     },
     "execution_count": 22,
     "metadata": {},
     "output_type": "execute_result"
    }
   ],
   "source": [
    "#Check a part of the pdf extracted:\n",
    "text[1000:2000]"
   ]
  },
  {
   "cell_type": "markdown",
   "metadata": {},
   "source": [
    "3. Create chunks:"
   ]
  },
  {
   "cell_type": "code",
   "execution_count": 23,
   "metadata": {},
   "outputs": [],
   "source": [
    "text_splitter = RecursiveCharacterTextSplitter(\n",
    "    chunk_size=1000,\n",
    "    chunk_overlap=100,\n",
    "    length_function=len,\n",
    ")"
   ]
  },
  {
   "cell_type": "code",
   "execution_count": 24,
   "metadata": {},
   "outputs": [],
   "source": [
    "chunks = text_splitter.split_text(text)"
   ]
  },
  {
   "cell_type": "code",
   "execution_count": 25,
   "metadata": {},
   "outputs": [
    {
     "name": "stdout",
     "output_type": "stream",
     "text": [
      "Number of chunks: 53\n",
      "Example chunk[7]: Nueva Zelanda puede abrirte el camino para desarrollar tus habilidades, conocer gente de todo el mundo e insertarse\n",
      "en el incipiente mercado de trabajo de este país. Te asistimos para conseguir tu V isa de Estudiante y que puedas\n",
      "viajar a Nueva Zelanda.\n",
      "Gestión de visas de Visitante para Nueva Zelanda\n",
      "Las visas de visitantes son para aquellos ciudadanos de países no miembros del  NZ V isa W aiver program ,\n",
      "y permiten viajar a Nueva Zelanda con propósitos tales como vacaciones, visitar familiares, amigos (incluso estudiarMenú\n",
      "Índice de contenidos11/2/23, 6:41 PM Servicio de gestión de visas para Nueva Zelanda\n",
      "https://destinoceania.com/servicios/gestion-visas-nueva-zelanda/ 2/3hasta un máximo de 3 meses). Las visas de visitante permiten normalmente una estadía máxima de 9 meses en\n",
      "Nueva Zelanda y son el puntapié inicial para descubrir los increíbles lugares de este país.\n",
      "Si estás interesado en los servicios de gestión de visas para Nueva Zelanda, por favor completa el siguiente\n"
     ]
    }
   ],
   "source": [
    "\n",
    "print(f\"Number of chunks: {len(chunks)}\")\n",
    "print(f\"Example chunk[7]: {chunks[7]}\")"
   ]
  },
  {
   "cell_type": "markdown",
   "metadata": {},
   "source": [
    "4. Create Embeddings:"
   ]
  },
  {
   "cell_type": "code",
   "execution_count": null,
   "metadata": {},
   "outputs": [],
   "source": []
  }
 ],
 "metadata": {
  "kernelspec": {
   "display_name": "base",
   "language": "python",
   "name": "python3"
  },
  "language_info": {
   "codemirror_mode": {
    "name": "ipython",
    "version": 3
   },
   "file_extension": ".py",
   "mimetype": "text/x-python",
   "name": "python",
   "nbconvert_exporter": "python",
   "pygments_lexer": "ipython3",
   "version": "3.10.9"
  }
 },
 "nbformat": 4,
 "nbformat_minor": 2
}
